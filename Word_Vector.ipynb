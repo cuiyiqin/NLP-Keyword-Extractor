{
 "cells": [
  {
   "cell_type": "code",
   "execution_count": 1,
   "id": "789800fe-f895-48d3-bd5d-67c1aff35c55",
   "metadata": {},
   "outputs": [
    {
     "name": "stdout",
     "output_type": "stream",
     "text": [
      "Requirement already satisfied: python-magic in c:\\users\\asus\\anaconda3\\lib\\site-packages (0.4.27)\n",
      "Note: you may need to restart the kernel to use updated packages.\n"
     ]
    }
   ],
   "source": [
    "pip install python-magic"
   ]
  },
  {
   "cell_type": "code",
   "execution_count": 2,
   "id": "8fd179f7",
   "metadata": {},
   "outputs": [
    {
     "name": "stdout",
     "output_type": "stream",
     "text": [
      "Requirement already satisfied: python-magic-bin in c:\\users\\asus\\anaconda3\\lib\\site-packages (0.4.14)\n",
      "Note: you may need to restart the kernel to use updated packages.\n"
     ]
    }
   ],
   "source": [
    "pip install python-magic-bin"
   ]
  },
  {
   "cell_type": "code",
   "execution_count": 3,
   "id": "f13a8e82-d359-4e39-992d-556a6b1c8ffc",
   "metadata": {},
   "outputs": [
    {
     "name": "stdout",
     "output_type": "stream",
     "text": [
      "Requirement already satisfied: filemagic in c:\\users\\asus\\anaconda3\\lib\\site-packages (1.6)\n",
      "Note: you may need to restart the kernel to use updated packages.\n"
     ]
    }
   ],
   "source": [
    "pip install filemagic"
   ]
  },
  {
   "cell_type": "code",
   "execution_count": 4,
   "id": "619242b3",
   "metadata": {},
   "outputs": [
    {
     "name": "stdout",
     "output_type": "stream",
     "text": [
      "Requirement already satisfied: tqdm in c:\\users\\asus\\anaconda3\\lib\\site-packages (4.64.0)\n",
      "Requirement already satisfied: colorama in c:\\users\\asus\\anaconda3\\lib\\site-packages (from tqdm) (0.4.4)\n"
     ]
    }
   ],
   "source": [
    "!pip install tqdm"
   ]
  },
  {
   "cell_type": "code",
   "execution_count": 6,
   "id": "c8bfb193-240e-4cce-82c0-9ef5f80f0511",
   "metadata": {},
   "outputs": [
    {
     "ename": "MagicException",
     "evalue": "b'could not find any valid magic files!'",
     "output_type": "error",
     "traceback": [
      "\u001b[1;31m---------------------------------------------------------------------------\u001b[0m",
      "\u001b[1;31mMagicException\u001b[0m                            Traceback (most recent call last)",
      "Input \u001b[1;32mIn [6]\u001b[0m, in \u001b[0;36m<cell line: 20>\u001b[1;34m()\u001b[0m\n\u001b[0;32m     18\u001b[0m \u001b[38;5;66;03m# 创建魔术对象并指定 magic 文件的路径\u001b[39;00m\n\u001b[0;32m     19\u001b[0m magic_file_path \u001b[38;5;241m=\u001b[39m \u001b[38;5;124m\"\u001b[39m\u001b[38;5;124mC:/Windows/System32/libmagicwin64-master/magic1.dll\u001b[39m\u001b[38;5;124m\"\u001b[39m\n\u001b[1;32m---> 20\u001b[0m mime \u001b[38;5;241m=\u001b[39m \u001b[43mmagic\u001b[49m\u001b[38;5;241;43m.\u001b[39;49m\u001b[43mMagic\u001b[49m\u001b[43m(\u001b[49m\u001b[43mmagic_file\u001b[49m\u001b[38;5;241;43m=\u001b[39;49m\u001b[43mmagic_file_path\u001b[49m\u001b[43m)\u001b[49m\n\u001b[0;32m     22\u001b[0m \u001b[38;5;66;03m# 获取文件列表\u001b[39;00m\n\u001b[0;32m     23\u001b[0m file_list \u001b[38;5;241m=\u001b[39m os\u001b[38;5;241m.\u001b[39mlistdir(input_folder)\n",
      "File \u001b[1;32m~\\anaconda3\\lib\\site-packages\\magic\\magic.py:71\u001b[0m, in \u001b[0;36mMagic.__init__\u001b[1;34m(self, mime, magic_file, mime_encoding, keep_going, uncompress)\u001b[0m\n\u001b[0;32m     68\u001b[0m \u001b[38;5;28mself\u001b[39m\u001b[38;5;241m.\u001b[39mcookie \u001b[38;5;241m=\u001b[39m magic_open(\u001b[38;5;28mself\u001b[39m\u001b[38;5;241m.\u001b[39mflags)\n\u001b[0;32m     69\u001b[0m \u001b[38;5;28mself\u001b[39m\u001b[38;5;241m.\u001b[39mlock \u001b[38;5;241m=\u001b[39m threading\u001b[38;5;241m.\u001b[39mLock()\n\u001b[1;32m---> 71\u001b[0m \u001b[43mmagic_load\u001b[49m\u001b[43m(\u001b[49m\u001b[38;5;28;43mself\u001b[39;49m\u001b[38;5;241;43m.\u001b[39;49m\u001b[43mcookie\u001b[49m\u001b[43m,\u001b[49m\u001b[43m \u001b[49m\u001b[43mmagic_file\u001b[49m\u001b[43m)\u001b[49m\n",
      "File \u001b[1;32m~\\anaconda3\\lib\\site-packages\\magic\\magic.py:272\u001b[0m, in \u001b[0;36mmagic_load\u001b[1;34m(cookie, filename)\u001b[0m\n\u001b[0;32m    271\u001b[0m \u001b[38;5;28;01mdef\u001b[39;00m \u001b[38;5;21mmagic_load\u001b[39m(cookie, filename):\n\u001b[1;32m--> 272\u001b[0m     \u001b[38;5;28;01mreturn\u001b[39;00m \u001b[43m_magic_load\u001b[49m\u001b[43m(\u001b[49m\u001b[43mcookie\u001b[49m\u001b[43m,\u001b[49m\u001b[43m \u001b[49m\u001b[43mcoerce_filename\u001b[49m\u001b[43m(\u001b[49m\u001b[43mfilename\u001b[49m\u001b[43m)\u001b[49m\u001b[43m)\u001b[49m\n",
      "File \u001b[1;32m~\\anaconda3\\lib\\site-packages\\magic\\magic.py:203\u001b[0m, in \u001b[0;36merrorcheck_negative_one\u001b[1;34m(result, func, args)\u001b[0m\n\u001b[0;32m    201\u001b[0m \u001b[38;5;28;01mif\u001b[39;00m result \u001b[38;5;129;01mis\u001b[39;00m \u001b[38;5;241m-\u001b[39m\u001b[38;5;241m1\u001b[39m:\n\u001b[0;32m    202\u001b[0m     err \u001b[38;5;241m=\u001b[39m magic_error(args[\u001b[38;5;241m0\u001b[39m])\n\u001b[1;32m--> 203\u001b[0m     \u001b[38;5;28;01mraise\u001b[39;00m MagicException(err)\n\u001b[0;32m    204\u001b[0m \u001b[38;5;28;01melse\u001b[39;00m:\n\u001b[0;32m    205\u001b[0m     \u001b[38;5;28;01mreturn\u001b[39;00m result\n",
      "\u001b[1;31mMagicException\u001b[0m: b'could not find any valid magic files!'"
     ]
    }
   ],
   "source": [
    "import os\n",
    "import magic\n",
    "from tqdm import tqdm\n",
    "from word2vecpy_master.word2vec import train\n",
    "\n",
    "# 设置训练参数\n",
    "input_folder = 'C:/Users/ASUS/TensorFlow Keywords/clean-text-main/cleantext/cleaned_data2/'\n",
    "output_model_folder = 'C:/Users/ASUS/TensorFlow Keywords/'\n",
    "cbow = 1                       # 1表示使用CBOW模型，0表示使用Skip-gram模型\n",
    "neg = 5                        # 负采样数量\n",
    "dim = 100                      # 词向量的维度\n",
    "alpha = 0.025                  # 初始学习率\n",
    "win = 5                        # 上下文窗口的最大长度\n",
    "min_count = 5                  # 最小词频\n",
    "num_processes = 1              # 进程数量\n",
    "binary = 1                     # 是否以二进制格式保存模型\n",
    "\n",
    "# 创建魔术对象并指定 magic 文件的路径\n",
    "magic_file_path = \"C:/Windows/System32/libmagicwin64-master/magic1.dll\"\n",
    "mime = magic.Magic(magic_file=magic_file_path)\n",
    "\n",
    "# 获取文件列表\n",
    "file_list = os.listdir(input_folder)\n",
    "\n",
    "# 获取文件数量\n",
    "total_files = len(file_list)\n",
    "\n",
    "# 初始化进度条\n",
    "pbar = tqdm(total=total_files, desc='Progress', unit='file', leave=True)\n",
    "\n",
    "# 遍历文件夹中的文本文档，并显示进度条\n",
    "for filename in file_list:\n",
    "    input_file = os.path.join(input_folder, filename)\n",
    "    \n",
    "    # 检查文件类型是否为文本\n",
    "    if mime.from_file(input_file).startswith('text'):\n",
    "        output_model_file = os.path.join(output_model_folder, filename + '_model.bin')\n",
    "        \n",
    "        # 开始训练\n",
    "        train(input_file, output_model_file, cbow, neg, dim, alpha, win, min_count, num_processes, binary)\n",
    "    \n",
    "    # 更新进度条\n",
    "    pbar.update(1)\n",
    "\n",
    "# 关闭进度条\n",
    "pbar.close()\n"
   ]
  },
  {
   "cell_type": "code",
   "execution_count": null,
   "id": "57705f4f-ff1e-4f44-9ce5-fd5176a4a555",
   "metadata": {},
   "outputs": [],
   "source": [
    "import os\n",
    "cwd = os.getcwd()\n",
    "print(\"当前工作目录为:\", cwd)"
   ]
  },
  {
   "cell_type": "code",
   "execution_count": null,
   "id": "cb46aa9a-c49f-46be-873d-196293a02e50",
   "metadata": {},
   "outputs": [],
   "source": [
    "import sys\n",
    "print(sys.path)"
   ]
  },
  {
   "cell_type": "code",
   "execution_count": null,
   "id": "0dbd131e-9341-408c-ac82-574e79d68fda",
   "metadata": {},
   "outputs": [],
   "source": []
  }
 ],
 "metadata": {
  "kernelspec": {
   "display_name": "Python 3 (ipykernel)",
   "language": "python",
   "name": "python3"
  },
  "language_info": {
   "codemirror_mode": {
    "name": "ipython",
    "version": 3
   },
   "file_extension": ".py",
   "mimetype": "text/x-python",
   "name": "python",
   "nbconvert_exporter": "python",
   "pygments_lexer": "ipython3",
   "version": "3.9.18"
  }
 },
 "nbformat": 4,
 "nbformat_minor": 5
}
