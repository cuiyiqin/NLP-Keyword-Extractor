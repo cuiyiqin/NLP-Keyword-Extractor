{
 "cells": [
  {
   "cell_type": "code",
   "execution_count": null,
   "id": "194d0946-f271-4a78-bf79-93018961af81",
   "metadata": {},
   "outputs": [],
   "source": [
    "pip install --upgrade clean-text"
   ]
  },
  {
   "cell_type": "code",
   "execution_count": 2,
   "id": "3419b29c-f984-4e2a-9331-a60658e6d254",
   "metadata": {},
   "outputs": [],
   "source": [
    "\n",
    "import os\n",
    "import sys\n",
    "\n",
    "# 将工作目录切换到 clean.py 所在的目录\n",
    "os.chdir(r'C:\\Users\\ASUS\\TensorFlow Keywords\\clean-text-main\\cleantext')\n",
    "\n",
    "# 将当前工作目录添加到 Python 解释器的搜索路径\n",
    "sys.path.append(r'C:\\Users\\ASUS\\TensorFlow Keywords\\clean-text-main\\cleantext')\n",
    "\n",
    "from clean import clean\n",
    "\n",
    "data_dir = r\"C:\\Users\\ASUS\\TensorFlow Keywords\\20news-bydate-train\"\n",
    "\n",
    "# 创建一个新的目录来保存清洗后的文本数据\n",
    "clean_data_dir =  r\"C:\\Users\\ASUS\\TensorFlow Keywords\\cleaned_data\"\n",
    "os.makedirs(clean_data_dir, exist_ok=True)\n",
    "\n",
    "# 遍历20news数据集中的所有文件夹\n",
    "for category in os.listdir(data_dir):\n",
    "    category_path = os.path.join(data_dir, category)\n",
    "    if os.path.isdir(category_path):\n",
    "        # 遍历每个文件夹中的所有文件\n",
    "        for file_name in os.listdir(category_path):\n",
    "            file_path = os.path.join(category_path, file_name)\n",
    "            if os.path.isfile(file_path):\n",
    "                # 记录文件名\n",
    "                file_name_without_ext, file_ext = os.path.splitext(file_name)\n",
    "                # 读取文件内容\n",
    "                with open(file_path, \"r\", encoding=\"latin1\") as file:\n",
    "                    text = file.read()\n",
    "                # 对文本进行清洗\n",
    "                clean_text = clean(text, no_line_breaks=True, fix_unicode=True, to_ascii=True, lower=True, no_urls=True, no_emails=True, no_phone_numbers=True, no_numbers=True, no_digits=True, no_currency_symbols=True, no_punct=True, no_emoji=True, remove_stopwords=True)\n",
    "                clean_file_path = os.path.join(clean_data_dir, category, file_name)\n",
    "                os.makedirs(os.path.dirname(clean_file_path), exist_ok=True)\n",
    "                # 将清洗后的文本保存到新文件中\n",
    "                with open(clean_file_path, \"w\", encoding=\"utf-8\") as clean_file:\n",
    "                    clean_file.write(clean_text)"
   ]
  },
  {
   "cell_type": "code",
   "execution_count": null,
   "id": "bb1a987c-470b-431c-be5d-e87e880e9586",
   "metadata": {},
   "outputs": [],
   "source": []
  }
 ],
 "metadata": {
  "kernelspec": {
   "display_name": "Python 3 (ipykernel)",
   "language": "python",
   "name": "python3"
  },
  "language_info": {
   "codemirror_mode": {
    "name": "ipython",
    "version": 3
   },
   "file_extension": ".py",
   "mimetype": "text/x-python",
   "name": "python",
   "nbconvert_exporter": "python",
   "pygments_lexer": "ipython3",
   "version": "3.9.18"
  }
 },
 "nbformat": 4,
 "nbformat_minor": 5
}
